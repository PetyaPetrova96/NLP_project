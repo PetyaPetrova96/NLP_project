{
 "cells": [
  {
   "cell_type": "markdown",
   "metadata": {},
   "source": [
    "Hugging Face"
   ]
  },
  {
   "cell_type": "code",
   "execution_count": null,
   "metadata": {},
   "outputs": [],
   "source": [
    "# All imports \n",
    "\n",
    "from transformers import AutoModelForTokenClassification, TrainingArguments, Trainer\n",
    "import transformers\n",
    "from huggingface_hub import login,notebook_login\n",
    "from transformers import DataCollatorForTokenClassification\n",
    "from transformers import AutoTokenizer\n",
    "import evaluate\n",
    "from datasets import Dataset\n",
    "import numpy as np\n",
    "import os\n",
    "from transformers import pipeline\n",
    "from sklearn.metrics import confusion_matrix\n",
    "import numpy as np\n",
    "from sklearn import metrics\n",
    "import matplotlib.pyplot as plt\n",
    "import seaborn as sns\n",
    "\n"
   ]
  },
  {
   "cell_type": "code",
   "execution_count": null,
   "metadata": {},
   "outputs": [],
   "source": [
    "# Log into hugging face\n",
    "notebook_login()"
   ]
  },
  {
   "cell_type": "code",
   "execution_count": null,
   "metadata": {},
   "outputs": [],
   "source": [
    "# All pip installed packages\n",
    "\n",
    "\n",
    "#%pip install ipywidgets\n",
    "\"\"\"\n",
    "%pip install accelerate -U\n",
    "%pip install transformers\n",
    "%pip install datasets\n",
    "%pip install seqeval\n",
    "#pip install transformers datasets evaluate seqeval\n",
    "\"\"\""
   ]
  },
  {
   "cell_type": "code",
   "execution_count": null,
   "metadata": {},
   "outputs": [],
   "source": [
    "label_list = ['O', 'B-LOC', 'I-LOC', 'B-PER', 'B-ORG', 'I-ORG', 'I-PER']\n",
    "\n",
    "\n",
    "label2id = {\n",
    "    'O': 0,\n",
    "    'B-LOC': 1,\n",
    "    'I-LOC': 2,\n",
    "    'B-PER': 3,\n",
    "    'B-ORG': 4,\n",
    "    'I-ORG': 5,\n",
    "    'I-PER': 6\n",
    "}\n",
    "\n",
    "id2label = {\n",
    "    0: 'O',\n",
    "    1: 'B-LOC',\n",
    "    2: 'I-LOC',\n",
    "    3: 'B-PER',\n",
    "    4: 'B-ORG',\n",
    "    5: 'I-ORG',\n",
    "    6: 'I-PER'\n",
    "    }"
   ]
  },
  {
   "cell_type": "code",
   "execution_count": null,
   "metadata": {},
   "outputs": [],
   "source": [
    "#label_to_index['O']"
   ]
  },
  {
   "cell_type": "markdown",
   "metadata": {},
   "source": [
    "## 1. Proccessing the  EWT data"
   ]
  },
  {
   "cell_type": "code",
   "execution_count": null,
   "metadata": {},
   "outputs": [],
   "source": [
    "# Open the data and create dictionaries for each sentence \n",
    "\n",
    "def parse_iob2_content(content):\n",
    "    data = []\n",
    "    sentence_id = None\n",
    "    sen_id = 0\n",
    "    for line in content.split('\\n'):\n",
    "        line = line.strip()\n",
    "        if line.startswith('# sent_id ='):\n",
    "            temp_dic = {}\n",
    "            #sentence_id = line.split('=')[1].strip()\n",
    "            sentence_id = sen_id\n",
    "            sen_id+= 1\n",
    "            temp_dic['id'] = sentence_id\n",
    "            temp_dic['tokens'] = []\n",
    "            temp_dic['ner_tags'] = []\n",
    "        elif line and not line.startswith('#'):\n",
    "            parts = line.split('\\t')\n",
    "            temp_dic['tokens'].append(parts[1])\n",
    "            temp_dic['ner_tags'].append(label2id[parts[2]])\n",
    "        elif not line:\n",
    "            data.append(temp_dic)\n",
    "    return data\n",
    "\n",
    "# Parse training data\n",
    "with open('en_ewt-ud-train.iob2', 'r', encoding='utf-8') as file:\n",
    "    content_train = file.read()\n",
    "\n",
    "\n",
    "\n",
    "# Parse development data\n",
    "with open('en_ewt-ud-dev.iob2', 'r', encoding='utf-8') as file:\n",
    "    content_dev = file.read()\n",
    "\n",
    "# Parse test data\n",
    "#with open('en_ewt-ud-test-masked.iob2', 'r', encoding='utf-8') as file:\n",
    " #   content_test = file.read()\n",
    "\n",
    "train_data = parse_iob2_content(content_train)\n",
    "dev_data = parse_iob2_content(content_dev)\n",
    "#test_data = parse_iob2_content(content_test)\n",
    "\n",
    "train_data"
   ]
  },
  {
   "cell_type": "code",
   "execution_count": null,
   "metadata": {},
   "outputs": [],
   "source": [
    "# Get the number of sentances \n",
    "def count_unique_ids(data):\n",
    "    unique_ids = set()\n",
    "    for item in data:\n",
    "        unique_ids.add(item['id'])\n",
    "    return len(unique_ids)\n",
    "\n",
    "numb_sentances = count_unique_ids(dev_data)\n",
    "numb_sentances "
   ]
  },
  {
   "cell_type": "code",
   "execution_count": null,
   "metadata": {},
   "outputs": [],
   "source": [
    "# Stuff from the hugging face\n",
    "\n",
    "\n",
    "tokenizer = AutoTokenizer.from_pretrained(\"distilbert/distilbert-base-cased\")\n",
    "data_collator = DataCollatorForTokenClassification(tokenizer=tokenizer)\n",
    "seqeval = evaluate.load(\"seqeval\")\n",
    "os.environ[\"WANDB_DISABLED\"] = \"true\""
   ]
  },
  {
   "cell_type": "code",
   "execution_count": null,
   "metadata": {},
   "outputs": [],
   "source": [
    "#example = train_data[0]\n",
    "\n",
    "def tokenize_and_align_labels(example):\n",
    "    tokenized_inputs = tokenizer(example[\"tokens\"], truncation=True, is_split_into_words=True)\n",
    "    #print(tokenized_inputs)\n",
    "    #print(example['ner_tags'])\n",
    "    #labels_ = []\n",
    "    for i, label in enumerate(example[f\"ner_tags\"]):\n",
    "        #print(i, label)\n",
    "        word_ids = tokenized_inputs.word_ids()  # Map tokens to their respective word.\n",
    "        #print(word_ids)\n",
    "        #print('Hi')\n",
    "        #print(word_ids, \"Hi\")\n",
    "        #print(label)\n",
    "        previous_word_idx = None\n",
    "        label_ids = []\n",
    "        for word_idx in word_ids:  # Set the special tokens to -100.\n",
    "            if word_idx is None:\n",
    "                label_ids.append(-100)\n",
    "                #print(label_ids)\n",
    "            elif word_idx != previous_word_idx:  # Only label the first token of a given word.\n",
    "                #print(label[word_idx])\n",
    "                #print(label)\n",
    "                #print(example[f\"ner_tags\"][word_idx])\n",
    "                label_ids.append(example[\"ner_tags\"][word_idx])\n",
    "                #label_ids.append(label[word_idx])\n",
    "                #label_ids.append(label)\n",
    "            else:\n",
    "                label_ids.append(-100)\n",
    "            previous_word_idx = word_idx\n",
    "        #labels_.append(label_ids)\n",
    "        #print(labels_)\n",
    "\n",
    "    tokenized_inputs[\"labels\"] = label_ids #labels_\n",
    "    #print('Hi')\n",
    "    return tokenized_inputs"
   ]
  },
  {
   "cell_type": "code",
   "execution_count": null,
   "metadata": {},
   "outputs": [],
   "source": [
    "# Tokenize both datsets EWT (dev and train)\n",
    "tokeized_train = []\n",
    "for i in train_data:\n",
    "    t = tokenize_and_align_labels(i)\n",
    "    tokeized_train.append(t)\n",
    "\n",
    "#print(tokeized_train)\n",
    "#tokenized_inputs\n",
    "\n",
    "\n",
    "tokeized_dev = []\n",
    "for i in dev_data:\n",
    "    t = tokenize_and_align_labels(i)\n",
    "    tokeized_dev.append(t)"
   ]
  },
  {
   "cell_type": "code",
   "execution_count": null,
   "metadata": {},
   "outputs": [],
   "source": [
    "#example_ids =\n",
    "\n",
    "#labels = [label_list[i] for i in example[f\"ner_tags\"]]\n",
    "\n",
    "\n",
    "def compute_metrics(p):\n",
    "    predictions, labels = p\n",
    "    predictions = np.argmax(predictions, axis=2)\n",
    "\n",
    "    true_predictions = [\n",
    "        [label_list[p] for (p, l) in zip(prediction, label) if l != -100]\n",
    "        for prediction, label in zip(predictions, labels)\n",
    "    ]\n",
    "    true_labels = [\n",
    "        [label_list[l] for (p, l) in zip(prediction, label) if l != -100]\n",
    "        for prediction, label in zip(predictions, labels)\n",
    "    ]\n",
    "\n",
    "    results = seqeval.compute(predictions=true_predictions, references=true_labels)\n",
    "    return {\n",
    "        \"precision\": results[\"overall_precision\"],\n",
    "        \"recall\": results[\"overall_recall\"],\n",
    "        \"f1\": results[\"overall_f1\"],\n",
    "        \"accuracy\": results[\"overall_accuracy\"],\n",
    "    }"
   ]
  },
  {
   "cell_type": "markdown",
   "metadata": {},
   "source": [
    "## 2. Process TweeBank data "
   ]
  },
  {
   "cell_type": "code",
   "execution_count": null,
   "metadata": {},
   "outputs": [],
   "source": [
    "def process_bio_file(file_path):\n",
    "    label2id = {\n",
    "        'O': 0,\n",
    "        'B-LOC': 1,\n",
    "        'I-LOC': 2,\n",
    "        'B-PER': 3,\n",
    "        'B-ORG': 4,\n",
    "        'I-ORG': 5,\n",
    "        'I-PER': 6\n",
    "    }\n",
    "\n",
    "    compare_data = []\n",
    "\n",
    "    with open(file_path, 'r', encoding='utf-8') as file:\n",
    "        sentences = []\n",
    "        current_sentence = {'id': 0, 'tokens': [], 'ner_tags': []}\n",
    "        sentence_id = 0  # Initialize sentence ID\n",
    "\n",
    "        for line in file:\n",
    "            # Skip lines starting with '-DOCSTART-' or empty lines\n",
    "            if line.startswith(\"-DOCSTART-\") or line.strip() == \"\":\n",
    "                # If the current sentence is not empty, append it to the list of sentences\n",
    "                if current_sentence['tokens']:\n",
    "                    sentences.append(current_sentence)\n",
    "                    current_sentence = {'id': sentence_id, 'tokens': [], 'ner_tags': []}  # Reset current sentence\n",
    "                    sentence_id += 1  # Increment sentence ID\n",
    "                continue\n",
    "            \n",
    "            # Split the line into word and label\n",
    "            word, _, _, label = line.strip().split('\\t')\n",
    "            \n",
    "            # Append word to the current sentence tokens\n",
    "            current_sentence['tokens'].append(word)\n",
    "            # Map label to its corresponding numerical value using label2id dictionary\n",
    "            current_sentence['ner_tags'].append(label2id.get(label, 0))  # Use 0 as default if label is not found\n",
    "\n",
    "        # Append the last sentence to the list of sentences if it's not empty\n",
    "        if current_sentence['tokens']:\n",
    "            sentences.append(current_sentence)\n",
    "\n",
    "        compare_data.extend(sentences)\n",
    "    \n",
    "    return compare_data\n",
    "\n",
    "# Call the function with the file path\n",
    "compare_data_1 = process_bio_file('train.bio')\n",
    "\n",
    "# Print the processed data\n",
    "print(compare_data_1)"
   ]
  },
  {
   "cell_type": "code",
   "execution_count": null,
   "metadata": {},
   "outputs": [],
   "source": [
    "def process_bio_file(file_path):\n",
    "    label2id = {\n",
    "        'O': 0,\n",
    "        'B-LOC': 1,\n",
    "        'I-LOC': 2,\n",
    "        'B-PER': 3,\n",
    "        'B-ORG': 4,\n",
    "        'I-ORG': 5,\n",
    "        'I-PER': 6\n",
    "    }\n",
    "\n",
    "    compare_data = []\n",
    "\n",
    "    with open(file_path, 'r', encoding='utf-8') as file:\n",
    "        sentences = []\n",
    "        current_sentence = {'id': 0, 'tokens': [], 'ner_tags': []}\n",
    "        sentence_id = 0  # Initialize sentence ID\n",
    "\n",
    "        for line in file:\n",
    "            # Skip lines starting with '-DOCSTART-' or empty lines\n",
    "            if line.startswith(\"-DOCSTART-\") or line.strip() == \"\":\n",
    "                # If the current sentence is not empty, append it to the list of sentences\n",
    "                if current_sentence['tokens']:\n",
    "                    sentences.append(current_sentence)\n",
    "                    current_sentence = {'id': sentence_id, 'tokens': [], 'ner_tags': []}  # Reset current sentence\n",
    "                    sentence_id += 1  # Increment sentence ID\n",
    "                continue\n",
    "            \n",
    "            # Split the line into word and label\n",
    "            word, _, _, label = line.strip().split('\\t')\n",
    "            \n",
    "            # Append word to the current sentence tokens\n",
    "            current_sentence['tokens'].append(word)\n",
    "            # Map label to its corresponding numerical value using label2id dictionary\n",
    "            current_sentence['ner_tags'].append(label2id.get(label, 0))  # Use 0 as default if label is not found\n",
    "\n",
    "        # Append the last sentence to the list of sentences if it's not empty\n",
    "        if current_sentence['tokens']:\n",
    "            sentences.append(current_sentence)\n",
    "\n",
    "        compare_data.extend(sentences)\n",
    "    \n",
    "    return compare_data\n",
    "\n",
    "# Call the function with the file path\n",
    "compare_data_1 = process_bio_file('train.bio')\n",
    "\n",
    "# Print the processed data\n",
    "print(compare_data_1)\n"
   ]
  },
  {
   "cell_type": "code",
   "execution_count": null,
   "metadata": {},
   "outputs": [],
   "source": [
    "\n",
    "# Tokenize the comparison data\n",
    "tokeized_comparedata_1 = []\n",
    "for i in compare_data_1 :\n",
    "    t = tokenize_and_align_labels(i)\n",
    "    tokeized_comparedata_1.append(t)\n",
    "\n",
    "print(tokeized_comparedata_1[:10])\n",
    "#tokenized_inputs\n"
   ]
  },
  {
   "cell_type": "markdown",
   "metadata": {},
   "source": [
    "## 3. Process the crossNER dataset"
   ]
  },
  {
   "cell_type": "code",
   "execution_count": null,
   "metadata": {},
   "outputs": [],
   "source": [
    "label2id_crossNER = {\n",
    "    'O': 0,\n",
    "    'B-location': 1,\n",
    "    'I-location': 2,\n",
    "    'B-person': 3,\n",
    "    'B-organisation': 4,\n",
    "    'I-organisation': 5,\n",
    "    'I-person': 6,\n",
    "    'B-misc': 0,\n",
    "    'I-misc': 0\n",
    "}"
   ]
  },
  {
   "cell_type": "code",
   "execution_count": null,
   "metadata": {},
   "outputs": [],
   "source": [
    "\n",
    "\n",
    "def parse_iob2_content_crossNER(content):\n",
    "    data = []\n",
    "    sen_id = 0\n",
    "    temp_dic = {}\n",
    "    temp_dic['id'] = sen_id\n",
    "    temp_dic['tokens'] = []\n",
    "    temp_dic['ner_tags'] = []\n",
    "    prev_line = 'start' #added\n",
    "    for line in content.split('\\n'):\n",
    "        \n",
    "        line = line.strip()\n",
    "        if line == '' and prev_line != '': #if line is empty and the previous line wasn't empty as well\n",
    "            \n",
    "            data.append(temp_dic)\n",
    "            temp_dic = {}\n",
    "            sen_id+= 1\n",
    "            temp_dic['id'] = sen_id\n",
    "            temp_dic['tokens'] = []\n",
    "            temp_dic['ner_tags'] = []\n",
    "        elif line:\n",
    "            parts = line.split('\\t')\n",
    "            temp_dic['tokens'].append(parts[0])\n",
    "            temp_dic['ner_tags'].append(label2id_crossNER[parts[1]])\n",
    "        prev_line = line #added\n",
    "    return data"
   ]
  },
  {
   "cell_type": "code",
   "execution_count": null,
   "metadata": {},
   "outputs": [],
   "source": [
    "# Parse training data\n",
    "with open('crossNER_train.txt', 'r', encoding='utf-8') as file:\n",
    "    content_crossNER_train = file.read()"
   ]
  },
  {
   "cell_type": "code",
   "execution_count": null,
   "metadata": {},
   "outputs": [],
   "source": [
    "crossNER_train_data = parse_iob2_content_crossNER(content_crossNER_train)\n",
    "crossNER_train_data\n",
    "\n",
    "tokeized_train_crossNER = []\n",
    "for i in crossNER_train_data:\n",
    "    #print(i)\n",
    "    t = tokenize_and_align_labels(i)\n",
    "    tokeized_train_crossNER.append(t)\n",
    "\n",
    "#tokeized_train_crossNER"
   ]
  },
  {
   "cell_type": "markdown",
   "metadata": {},
   "source": [
    "## 4. Count the number of tokens,sentances and lables "
   ]
  },
  {
   "cell_type": "code",
   "execution_count": null,
   "metadata": {},
   "outputs": [],
   "source": [
    "def count_tokens(data):\n",
    "    total_tokens = 0\n",
    "    for item in data:\n",
    "        total_tokens += len(item['input_ids'])\n",
    "    return total_tokens\n",
    "# count the number of tokens per each dataset\n",
    "nmb_tokens_crossNER = count_tokens (tokeized_train_crossNER)\n",
    "nmb_tokens_tweet = count_tokens(tokeized_comparedata_1)\n",
    "nmb_tokens_ewt = count_tokens(tokeized_dev)\n"
   ]
  },
  {
   "cell_type": "code",
   "execution_count": null,
   "metadata": {},
   "outputs": [],
   "source": [
    "def count_items(dataset):\n",
    "    return len(dataset)\n",
    "\n",
    "# Get the number of sentances for all the datasets\n",
    "numb_sentances_crossNER = count_items(tokeized_train_crossNER)\n",
    "numb_sentances_tweet = count_items(tokeized_comparedata_1)\n",
    "numb_sentances_ewt = count_items(tokeized_dev)\n",
    "print(numb_sentances_crossNER,numb_sentances_tweet,numb_sentances_ewt)"
   ]
  },
  {
   "cell_type": "code",
   "execution_count": null,
   "metadata": {},
   "outputs": [],
   "source": [
    "def count_labels(data):\n",
    "    label_counts = {\n",
    "        'O': 0,\n",
    "        'B-LOC': 0,\n",
    "        'I-LOC': 0,\n",
    "        'B-PER': 0,\n",
    "        'B-ORG': 0,\n",
    "        'I-ORG': 0,\n",
    "        'I-PER': 0\n",
    "    }\n",
    "\n",
    "    for item in data:\n",
    "        ner_tags = item['ner_tags']\n",
    "        for tag in ner_tags:\n",
    "            for label, index in label2id.items():\n",
    "                if index == tag:\n",
    "                    label_counts[label] += 1\n",
    "\n",
    "    return label_counts\n",
    "\n",
    "# Call the function with the processed data\n",
    "label_counts = count_labels(compare_data_1)\n",
    "label_counts_dev = count_labels(dev_data)\n",
    "label_counts_crossNER = count_labels(crossNER_train_data)\n",
    "\n",
    "# Print the counts\n",
    "print(\"Label Counts:\")\n",
    "for label, count in label_counts.items():\n",
    "    print(label, \":\", count)\n",
    "\n",
    "\n",
    "\n",
    "# Print the counts\n",
    "print(\"Label Counts:\")\n",
    "for label, count in label_counts_dev.items():\n",
    "    print(label, \":\", count)\n",
    "\n",
    "\n",
    "# Print the counts\n",
    "print(\"Label Counts:\")\n",
    "for label, count in label_counts_crossNER.items():\n",
    "    print(label, \":\", count)\n",
    "\n"
   ]
  },
  {
   "cell_type": "code",
   "execution_count": null,
   "metadata": {},
   "outputs": [],
   "source": []
  },
  {
   "cell_type": "code",
   "execution_count": null,
   "metadata": {},
   "outputs": [],
   "source": [
    "#tokenizer = AutoTokenizer.from_pretrained(\"distilbert/distilbert-base-cased\")"
   ]
  },
  {
   "cell_type": "code",
   "execution_count": null,
   "metadata": {},
   "outputs": [],
   "source": [
    "#example = train_data[0]\n",
    "\"\"\"\n",
    "tokenized_input = tokenizer(example[\"tokens\"], is_split_into_words=True)\n",
    "tokens = tokenizer.convert_ids_to_tokens(tokenized_input[\"input_ids\"])\n",
    "tokens\n",
    "\"\"\""
   ]
  },
  {
   "cell_type": "code",
   "execution_count": null,
   "metadata": {},
   "outputs": [],
   "source": [
    "'''def tokenize_and_align_labels(examples):\n",
    "    tokenized_inputs = tokenizer(examples[\"tokens\"], truncation=True, is_split_into_words=True)\n",
    "\n",
    "    labels = []\n",
    "    for i, label in enumerate(examples[f\"ner_tags\"]):\n",
    "        word_ids = tokenized_inputs.word_ids(batch_index=i)  # Map tokens to their respective word.\n",
    "        #print('Hi')\n",
    "        #print(word_ids, \"Hi\")\n",
    "        #print(label)\n",
    "        previous_word_idx = None\n",
    "        label_ids = []\n",
    "        for word_idx in word_ids:  # Set the special tokens to -100.\n",
    "            if word_idx is None:\n",
    "                label_ids.append(-100)\n",
    "            elif word_idx != previous_word_idx:  # Only label the first token of a given word.\n",
    "                #print(label[word_idx])\n",
    "                label_ids.append(label[word_idx])\n",
    "            else:\n",
    "                label_ids.append(-100)\n",
    "            previous_word_idx = word_idx\n",
    "        labels.append(label_ids)\n",
    "\n",
    "    tokenized_inputs[\"labels\"] = labels\n",
    "    return tokenized_inputs'''"
   ]
  },
  {
   "cell_type": "code",
   "execution_count": null,
   "metadata": {},
   "outputs": [],
   "source": [
    "#train_data[:2]"
   ]
  },
  {
   "cell_type": "code",
   "execution_count": null,
   "metadata": {},
   "outputs": [],
   "source": []
  },
  {
   "cell_type": "code",
   "execution_count": null,
   "metadata": {},
   "outputs": [],
   "source": [
    "#from datasets import load_dataset"
   ]
  },
  {
   "cell_type": "markdown",
   "metadata": {},
   "source": [
    "## The Model "
   ]
  },
  {
   "cell_type": "code",
   "execution_count": null,
   "metadata": {},
   "outputs": [],
   "source": [
    "\n",
    "\n",
    "model = AutoModelForTokenClassification.from_pretrained(\n",
    "    \"distilbert/distilbert-base-cased\", num_labels=7, id2label=id2label, label2id=label2id\n",
    ")"
   ]
  },
  {
   "cell_type": "code",
   "execution_count": null,
   "metadata": {},
   "outputs": [],
   "source": [
    "# Train the model\n",
    "\n",
    "\"\"\"\n",
    "training_args = TrainingArguments(\n",
    "    output_dir=\"our_awesome_BERT_model\",\n",
    "    learning_rate=2e-5,\n",
    "    per_device_train_batch_size=16,\n",
    "    per_device_eval_batch_size=16,\n",
    "    num_train_epochs=2,\n",
    "    weight_decay=0.01,\n",
    "    evaluation_strategy=\"epoch\",\n",
    "    save_strategy=\"epoch\",\n",
    "    load_best_model_at_end=True,\n",
    "    #push_to_hub=True,\n",
    ")\n",
    "\n",
    "trainer = Trainer(\n",
    "    model=model,\n",
    "    args=training_args,\n",
    "    train_dataset=tokeized_train,\n",
    "    eval_dataset=tokeized_dev,\n",
    "    tokenizer=tokenizer,\n",
    "    data_collator=data_collator,\n",
    "    compute_metrics=compute_metrics,\n",
    ")\n",
    "\n",
    "model_output = trainer.train()\n",
    "\"\"\"\n",
    "\n",
    "#trainer.predict()"
   ]
  },
  {
   "cell_type": "code",
   "execution_count": null,
   "metadata": {},
   "outputs": [],
   "source": [
    "#trainer"
   ]
  },
  {
   "cell_type": "code",
   "execution_count": null,
   "metadata": {},
   "outputs": [],
   "source": [
    "# push the model to the hugging face website\n",
    "#trainer.push_to_hub(\"model_name1\")"
   ]
  },
  {
   "cell_type": "code",
   "execution_count": null,
   "metadata": {},
   "outputs": [],
   "source": [
    "# Save the mdoel locally\n",
    "#model_output\n",
    "#trainer.save_model(\"model1\")"
   ]
  },
  {
   "cell_type": "code",
   "execution_count": null,
   "metadata": {},
   "outputs": [],
   "source": [
    "#text = \"The Golden State Warriors are an American professional basketball team based in San Francisco.\""
   ]
  },
  {
   "cell_type": "code",
   "execution_count": null,
   "metadata": {},
   "outputs": [],
   "source": [
    "\n",
    "\n",
    "\n",
    "classifier = pipeline(\"ner\", model=\"our_awesome_BERT_model/checkpoint-784/\")\n",
    "classifier(text)"
   ]
  },
  {
   "cell_type": "code",
   "execution_count": null,
   "metadata": {},
   "outputs": [],
   "source": [
    "# read the txt file\n",
    "#f = open(\"train.txt\", \"r\")\n",
    "#print(f.read())"
   ]
  },
  {
   "cell_type": "markdown",
   "metadata": {},
   "source": [
    "## Test the model on 3 datasets"
   ]
  },
  {
   "cell_type": "code",
   "execution_count": null,
   "metadata": {},
   "outputs": [],
   "source": [
    "# Load the model\n",
    "loaded_model = AutoModelForTokenClassification.from_pretrained(\"model1\")\n",
    "trainer = Trainer(model = loaded_model)\n"
   ]
  },
  {
   "cell_type": "code",
   "execution_count": null,
   "metadata": {},
   "outputs": [],
   "source": [
    "collated_compare_data=data_collator(tokeized_comparedata_1)"
   ]
  },
  {
   "cell_type": "code",
   "execution_count": null,
   "metadata": {},
   "outputs": [],
   "source": [
    "test_dataset= Dataset.from_dict({\n",
    "    \"id\":range(len(collated_compare_data[\"input_ids\"])),\n",
    "    \"input_ids\":collated_compare_data[\"input_ids\"],\n",
    "    \"attention_mask\":collated_compare_data[\"attention_mask\"],\n",
    "    \"labels\":collated_compare_data[\"labels\"],\n",
    "})"
   ]
  },
  {
   "cell_type": "code",
   "execution_count": null,
   "metadata": {},
   "outputs": [],
   "source": [
    "ps = trainer.predict(test_dataset)\n",
    "results = compute_metrics(ps[:2])"
   ]
  },
  {
   "cell_type": "code",
   "execution_count": null,
   "metadata": {},
   "outputs": [],
   "source": [
    "results\n",
    "\n",
    "\n",
    "predictions, labels, _ = trainer.predict(test_dataset)\n",
    "predictions = np.argmax(predictions, axis=2)\n",
    "\n",
    "true_predictions_twee = [\n",
    "    [label_list[p] for (p, l) in zip(prediction, label) if l != -100]\n",
    "    for prediction, label in zip(predictions, labels)\n",
    "]\n",
    "true_labels_twee = [\n",
    "    [label_list[l] for (p, l) in zip(prediction, label) if l != -100]\n",
    "    for prediction, label in zip(predictions, labels)\n",
    "]\n"
   ]
  },
  {
   "cell_type": "code",
   "execution_count": null,
   "metadata": {},
   "outputs": [],
   "source": [
    "seqeval.compute(predictions=true_predictions_twee, references=true_labels_twee)\n"
   ]
  },
  {
   "cell_type": "code",
   "execution_count": null,
   "metadata": {},
   "outputs": [],
   "source": [
    "true_predictions_twee\n",
    "true_labels_twee"
   ]
  },
  {
   "cell_type": "code",
   "execution_count": null,
   "metadata": {},
   "outputs": [],
   "source": [
    "# File path to save predictions and true labels\n",
    "file_path = \"predictions_and_labels_tweeBank.txt\"\n",
    "\n",
    "# Initialize sentence ID counter\n",
    "sentence_id = 1\n",
    "\n",
    "# Open the file in write mode\n",
    "with open(file_path, \"w\") as file:\n",
    "    # Iterate over each prediction and true label\n",
    "    for pred, true in zip(true_predictions_twee, true_labels_twee):\n",
    "        # Count occurrences of each label in predictions and true labels\n",
    "        pred_counts = {label: pred.count(label) for label in set(pred)}\n",
    "        true_counts = {label: true.count(label) for label in set(true)}\n",
    "        \n",
    "        # Write the sentence ID\n",
    "        file.write(f\"Sentence ID: {sentence_id}\\n\")\n",
    "        \n",
    "        # Write the prediction counts\n",
    "        file.write(\"Predictions:\\n\")\n",
    "        for label, count in pred_counts.items():\n",
    "            file.write(f\"{label}: {count}\\n\")\n",
    "        \n",
    "        # Write the true label counts\n",
    "        file.write(\"\\nTrue Labels:\\n\")\n",
    "        for label, count in true_counts.items():\n",
    "            file.write(f\"{label}: {count}\\n\")\n",
    "        \n",
    "        # Write the prediction and true label pairs\n",
    "        file.write(\"\\nPredictions vs True Labels:\\n\")\n",
    "        for pred_label, true_label in zip(pred, true):\n",
    "            file.write(f\"{pred_label}\\t{true_label}\\n\")  # Separate by tab and add a newline at the end\n",
    "        \n",
    "        # Add an empty line to separate different instances\n",
    "        file.write(\"\\n\")\n",
    "        \n",
    "        # Increment the sentence ID\n",
    "        sentence_id += 1\n"
   ]
  },
  {
   "cell_type": "markdown",
   "metadata": {},
   "source": [
    "\n",
    "#### Test on CrossNER"
   ]
  },
  {
   "cell_type": "code",
   "execution_count": null,
   "metadata": {},
   "outputs": [],
   "source": [
    "collated_compare_data_crossNER =data_collator(tokeized_train_crossNER)"
   ]
  },
  {
   "cell_type": "code",
   "execution_count": null,
   "metadata": {},
   "outputs": [],
   "source": [
    "test_dataset_crossNER= Dataset.from_dict({\n",
    "    \"id\":range(len(collated_compare_data_crossNER[\"input_ids\"])),\n",
    "    \"input_ids\":collated_compare_data_crossNER[\"input_ids\"],\n",
    "    \"attention_mask\":collated_compare_data_crossNER[\"attention_mask\"],\n",
    "    \"labels\":collated_compare_data_crossNER[\"labels\"],\n",
    "})"
   ]
  },
  {
   "cell_type": "code",
   "execution_count": null,
   "metadata": {},
   "outputs": [],
   "source": [
    "ps_NER = trainer.predict(test_dataset_crossNER)\n",
    "results_NER = compute_metrics(ps_NER[:2])\n"
   ]
  },
  {
   "cell_type": "code",
   "execution_count": null,
   "metadata": {},
   "outputs": [],
   "source": [
    "predictions, labels, _ = trainer.predict(test_dataset_crossNER)\n",
    "predictions = np.argmax(predictions, axis=2)\n",
    "\n",
    "true_predictions_crossNER = [\n",
    "    [label_list[p] for (p, l) in zip(prediction, label) if l != -100]\n",
    "    for prediction, label in zip(predictions, labels)\n",
    "]\n",
    "true_labels_crossNER = [\n",
    "    [label_list[l] for (p, l) in zip(prediction, label) if l != -100]\n",
    "    for prediction, label in zip(predictions, labels)\n",
    "]\n"
   ]
  },
  {
   "cell_type": "code",
   "execution_count": null,
   "metadata": {},
   "outputs": [],
   "source": [
    "# File path to save predictions and true labels\n",
    "file_path = \"predictions_and_labels_crossNER.txt\"\n",
    "\n",
    "# Initialize sentence ID counter\n",
    "sentence_id = 1\n",
    "\n",
    "# Open the file in write mode\n",
    "with open(file_path, \"w\") as file:\n",
    "    # Iterate over each prediction and true label\n",
    "    for pred, true in zip(true_predictions_crossNER, true_labels_crossNER):\n",
    "        # Count occurrences of each label in predictions and true labels\n",
    "        pred_counts = {label: pred.count(label) for label in set(pred)}\n",
    "        true_counts = {label: true.count(label) for label in set(true)}\n",
    "        \n",
    "        # Write the sentence ID\n",
    "        file.write(f\"Sentence ID: {sentence_id}\\n\")\n",
    "        \n",
    "        # Write the prediction counts\n",
    "        file.write(\"Predictions:\\n\")\n",
    "        for label, count in pred_counts.items():\n",
    "            file.write(f\"{label}: {count}\\n\")\n",
    "        \n",
    "        # Write the true label counts\n",
    "        file.write(\"\\nTrue Labels:\\n\")\n",
    "        for label, count in true_counts.items():\n",
    "            file.write(f\"{label}: {count}\\n\")\n",
    "        \n",
    "        # Write the prediction and true label pairs\n",
    "        file.write(\"\\nPredictions vs True Labels:\\n\")\n",
    "        for pred_label, true_label in zip(pred, true):\n",
    "            file.write(f\"{pred_label}\\t{true_label}\\n\")  # Separate by tab and add a newline at the end\n",
    "        \n",
    "        # Add an empty line to separate different instances\n",
    "        file.write(\"\\n\")\n",
    "        \n",
    "        # Increment the sentence ID\n",
    "        sentence_id += 1\n"
   ]
  },
  {
   "cell_type": "code",
   "execution_count": null,
   "metadata": {},
   "outputs": [],
   "source": [
    "seqeval.compute(predictions=true_predictions_crossNER, references=true_labels_crossNER)"
   ]
  },
  {
   "cell_type": "markdown",
   "metadata": {},
   "source": [
    "#### Test on DEV dataset"
   ]
  },
  {
   "cell_type": "code",
   "execution_count": null,
   "metadata": {},
   "outputs": [],
   "source": [
    "collated_compare_data_dev =data_collator(tokeized_dev)"
   ]
  },
  {
   "cell_type": "code",
   "execution_count": null,
   "metadata": {},
   "outputs": [],
   "source": [
    "test_dataset_dev= Dataset.from_dict({\n",
    "    \"id\":range(len(collated_compare_data_dev[\"input_ids\"])),\n",
    "    \"input_ids\":collated_compare_data_dev[\"input_ids\"],\n",
    "    \"attention_mask\":collated_compare_data_dev[\"attention_mask\"],\n",
    "    \"labels\":collated_compare_data_dev[\"labels\"],\n",
    "})"
   ]
  },
  {
   "cell_type": "code",
   "execution_count": null,
   "metadata": {},
   "outputs": [],
   "source": [
    "predictions, labels, _ = trainer.predict(test_dataset_dev)\n",
    "predictions = np.argmax(predictions, axis=2)\n",
    "\n",
    "true_predictions_dev = [\n",
    "    [label_list[p] for (p, l) in zip(prediction, label) if l != -100]\n",
    "    for prediction, label in zip(predictions, labels)\n",
    "]\n",
    "true_labels_dev = [\n",
    "    [label_list[l] for (p, l) in zip(prediction, label) if l != -100]\n",
    "    for prediction, label in zip(predictions, labels)\n",
    "]\n"
   ]
  },
  {
   "cell_type": "code",
   "execution_count": null,
   "metadata": {},
   "outputs": [],
   "source": [
    "# \n",
    "# File path to save predictions and true labels\n",
    "file_path = \"predictions_and_labels_EWT_dev.txt\"\n",
    "\n",
    "# Initialize sentence ID counter\n",
    "sentence_id = 1\n",
    "\n",
    "# Open the file in write mode\n",
    "with open(file_path, \"w\") as file:\n",
    "    # Iterate over each prediction and true label\n",
    "    for pred, true in zip(true_predictions_dev, true_labels_dev):\n",
    "        # Count occurrences of each label in predictions and true labels\n",
    "        pred_counts = {label: pred.count(label) for label in set(pred)}\n",
    "        true_counts = {label: true.count(label) for label in set(true)}\n",
    "        \n",
    "        # Write the sentence ID\n",
    "        file.write(f\"Sentence ID: {sentence_id}\\n\")\n",
    "        \n",
    "        # Write the prediction counts\n",
    "        file.write(\"Predictions:\\n\")\n",
    "        for label, count in pred_counts.items():\n",
    "            file.write(f\"{label}: {count}\\n\")\n",
    "        \n",
    "        # Write the true label counts\n",
    "        file.write(\"\\nTrue Labels:\\n\")\n",
    "        for label, count in true_counts.items():\n",
    "            file.write(f\"{label}: {count}\\n\")\n",
    "        \n",
    "        # Write the prediction and true label pairs\n",
    "        file.write(\"\\nPredictions vs True Labels:\\n\")\n",
    "        for pred_label, true_label in zip(pred, true):\n",
    "            file.write(f\"{pred_label}\\t{true_label}\\n\")  # Separate by tab and add a newline at the end\n",
    "        \n",
    "        # Add an empty line to separate different instances\n",
    "        file.write(\"\\n\")\n",
    "        \n",
    "        # Increment the sentence ID\n",
    "        sentence_id += 1\n"
   ]
  },
  {
   "cell_type": "code",
   "execution_count": null,
   "metadata": {},
   "outputs": [],
   "source": [
    "#print(ps)"
   ]
  },
  {
   "cell_type": "code",
   "execution_count": null,
   "metadata": {},
   "outputs": [],
   "source": [
    "seqeval.compute(predictions=true_predictions_dev, references=true_labels_dev)"
   ]
  },
  {
   "cell_type": "markdown",
   "metadata": {},
   "source": [
    "## Get the confusion matrices for each dataset that the model was tested on"
   ]
  },
  {
   "cell_type": "code",
   "execution_count": null,
   "metadata": {},
   "outputs": [],
   "source": [
    "# getting the percentages for Twee bank\n",
    "import numpy as np\n",
    "import seaborn as sns\n",
    "import matplotlib.pyplot as plt\n",
    "from sklearn.metrics import confusion_matrix\n",
    "\n",
    "# For TweeBank\n",
    "\n",
    "# Flatten the true_predictions and true_labels lists\n",
    "true_predictions_flat = [label for sublist in true_predictions_twee for label in sublist]\n",
    "true_labels_flat = [label for sublist in true_labels_twee for label in sublist]\n",
    "\n",
    "# Calculate the confusion matrix\n",
    "conf_matrix = confusion_matrix(true_labels_flat, true_predictions_flat)\n",
    "\n",
    "# Calculate row sums\n",
    "row_sums = conf_matrix.sum(axis=1)\n",
    "\n",
    "# Convert counts to percentages\n",
    "conf_matrix_percent = (conf_matrix / row_sums[:, np.newaxis]) * 100\n",
    "\n",
    "# Get the unique labels\n",
    "unique_labels = sorted(set(true_labels_flat))\n",
    "\n",
    "# Plot the heatmap\n",
    "plt.figure(figsize=(10, 8))\n",
    "sns.heatmap(conf_matrix_percent, annot=True, fmt=\".2f\", cmap=\"Blues\", xticklabels=unique_labels, yticklabels=unique_labels,annot_kws={\"fontsize\":15})\n",
    "plt.xlabel('Predicted Labels')\n",
    "plt.ylabel('True Labels')\n",
    "plt.title('Confusion Matrix for Tweebank with BERT')\n",
    "plt.show()\n"
   ]
  },
  {
   "cell_type": "code",
   "execution_count": null,
   "metadata": {},
   "outputs": [],
   "source": [
    "# For TweeBank\n",
    "\n",
    "# Flatten the true_predictions and true_labels lists\n",
    "true_predictions_flat = [label for sublist in true_predictions_twee for label in sublist]\n",
    "true_labels_flat = [label for sublist in true_labels_twee for label in sublist]\n",
    "print(true_predictions_flat)\n",
    "print(true_labels_flat)\n",
    "\n",
    "# Calculate the confusion matrix\n",
    "conf_matrix = confusion_matrix(true_labels_flat, true_predictions_flat)\n",
    "# Get the unique labels\n",
    "unique_labels = sorted(set(true_labels_flat))\n",
    "\n",
    "\n",
    "# Plot the heatmap\n",
    "plt.figure(figsize=(10, 8))\n",
    "sns.heatmap(conf_matrix, annot=True, fmt=\"d\", cmap=\"Blues\", xticklabels=unique_labels, yticklabels=unique_labels,annot_kws={\"fontsize\":15})\n",
    "plt.xlabel('Predicted Labels')\n",
    "plt.ylabel('True Labels')\n",
    "plt.title('Confusion Matrix for Tweebank with BERT')"
   ]
  },
  {
   "cell_type": "code",
   "execution_count": null,
   "metadata": {},
   "outputs": [],
   "source": [
    "# get the percentages for cross NER\n",
    "import numpy as np\n",
    "import seaborn as sns\n",
    "import matplotlib.pyplot as plt\n",
    "from sklearn.metrics import confusion_matrix\n",
    "\n",
    "# For Cross NER\n",
    "\n",
    "# Flatten the true_predictions and true_labels lists\n",
    "true_predictions_flat_crossNER = [label for sublist in true_predictions_crossNER for label in sublist]\n",
    "true_labels_flat_crossNER = [label for sublist in true_labels_crossNER for label in sublist]\n",
    "\n",
    "# Calculate the confusion matrix\n",
    "conf_matrix = confusion_matrix(true_labels_flat_crossNER, true_predictions_flat_crossNER)\n",
    "\n",
    "# Calculate row sums\n",
    "row_sums = conf_matrix.sum(axis=1)\n",
    "\n",
    "# Convert counts to percentages\n",
    "conf_matrix_percent = (conf_matrix / row_sums[:, np.newaxis]) * 100\n",
    "\n",
    "# Get the unique labels\n",
    "unique_labels = sorted(set(true_labels_flat_crossNER))\n",
    "\n",
    "# Plot the heatmap\n",
    "plt.figure(figsize=(10, 8))\n",
    "sns.heatmap(conf_matrix_percent, annot=True, fmt=\".2f\", cmap=\"Blues\", xticklabels=unique_labels, yticklabels=unique_labels,annot_kws={\"fontsize\":15})\n",
    "plt.xlabel('Predicted Labels')\n",
    "plt.ylabel('True Labels')\n",
    "plt.title('Confusion Matrix for CrossNER with BERT')\n",
    "plt.show()\n"
   ]
  },
  {
   "cell_type": "code",
   "execution_count": null,
   "metadata": {},
   "outputs": [],
   "source": [
    "# For Cross NER\n",
    "\n",
    "\n",
    "# Flatten the true_predictions and true_labels lists\n",
    "true_predictions_flat_crossNER = [label for sublist in true_predictions_crossNER for label in sublist]\n",
    "true_labels_flat_crossNER = [label for sublist in true_labels_crossNER for label in sublist]\n",
    "\n",
    "\n",
    "# Calculate the confusion matrix\n",
    "conf_matrix = confusion_matrix(true_labels_flat_crossNER, true_predictions_flat_crossNER)\n",
    "# Plot the heatmap\n",
    "plt.figure(figsize=(10, 8))\n",
    "sns.heatmap(conf_matrix, annot=True, fmt=\"d\", cmap=\"Blues\", xticklabels=unique_labels, yticklabels=unique_labels)\n",
    "plt.xlabel('Predicted Labels')\n",
    "plt.ylabel('True Labels')\n",
    "plt.title('Confusion Matrix for CrossNER with BERT')"
   ]
  },
  {
   "cell_type": "code",
   "execution_count": null,
   "metadata": {},
   "outputs": [],
   "source": [
    "# get the percentage for DEV EWT\n",
    "import numpy as np\n",
    "import seaborn as sns\n",
    "import matplotlib.pyplot as plt\n",
    "from sklearn.metrics import confusion_matrix\n",
    "\n",
    "# for EWT DEV\n",
    "\n",
    "# Flatten the true_predictions and true_labels lists\n",
    "true_predictions_flat_dev = [label for sublist in true_predictions_dev for label in sublist]\n",
    "true_labels_flat_dev = [label for sublist in true_labels_dev for label in sublist]\n",
    "\n",
    "# Calculate the confusion matrix\n",
    "conf_matrix = confusion_matrix(true_labels_flat_dev, true_predictions_flat_dev)\n",
    "\n",
    "# Calculate row sums\n",
    "row_sums = conf_matrix.sum(axis=1)\n",
    "\n",
    "# Convert counts to percentages\n",
    "conf_matrix_percent = (conf_matrix / row_sums[:, np.newaxis]) * 100\n",
    "\n",
    "# Get the unique labels\n",
    "unique_labels = sorted(set(true_labels_flat_dev))\n",
    "\n",
    "# Plot the heatmap\n",
    "plt.figure(figsize=(10, 8))\n",
    "sns.heatmap(conf_matrix_percent, annot=True, fmt=\".2f\", cmap=\"Blues\", xticklabels=unique_labels, yticklabels=unique_labels,annot_kws={\"fontsize\":15})\n",
    "plt.xlabel('Predicted Labels')\n",
    "plt.ylabel('True Labels')\n",
    "plt.title('Confusion Matrix for EWT_dev with BERT')\n",
    "plt.show()\n"
   ]
  },
  {
   "cell_type": "code",
   "execution_count": null,
   "metadata": {},
   "outputs": [],
   "source": [
    "# for EWT DEV\n",
    "\n",
    "# Flatten the true_predictions and true_labels lists\n",
    "true_predictions_flat_dev = [label for sublist in true_predictions_dev for label in sublist]\n",
    "true_labels_flat_dev = [label for sublist in true_labels_dev for label in sublist]\n",
    "\n",
    "\n",
    "# Calculate the confusion matrix\n",
    "conf_matrix = confusion_matrix(true_labels_flat_dev, true_predictions_flat_dev)\n",
    "# Plot the heatmap\n",
    "plt.figure(figsize=(10, 8))\n",
    "sns.heatmap(conf_matrix, annot=True, fmt=\"d\", cmap=\"Blues\", xticklabels=unique_labels, yticklabels=unique_labels)\n",
    "plt.xlabel('Predicted Labels')\n",
    "plt.ylabel('True Labels')\n",
    "plt.title('Confusion Matrix for EWT_dev with BERT')"
   ]
  },
  {
   "cell_type": "code",
   "execution_count": null,
   "metadata": {},
   "outputs": [],
   "source": [
    "# plray aroind to find the right font size\n",
    "import numpy as np\n",
    "import seaborn as sns\n",
    "import matplotlib.pyplot as plt\n",
    "from sklearn.metrics import confusion_matrix\n",
    "\n",
    "# for EWT DEV\n",
    "\n",
    "# Flatten the true_predictions and true_labels lists\n",
    "true_predictions_flat_dev = [label for sublist in true_predictions_dev for label in sublist]\n",
    "true_labels_flat_dev = [label for sublist in true_labels_dev for label in sublist]\n",
    "\n",
    "# Calculate the confusion matrix\n",
    "conf_matrix = confusion_matrix(true_labels_flat_dev, true_predictions_flat_dev)\n",
    "\n",
    "# Calculate row sums\n",
    "row_sums = conf_matrix.sum(axis=1)\n",
    "\n",
    "# Convert counts to percentages\n",
    "conf_matrix_percent = (conf_matrix / row_sums[:, np.newaxis]) * 100\n",
    "\n",
    "# Get the unique labels\n",
    "unique_labels = sorted(set(true_labels_flat_dev))\n",
    "\n",
    "# Plot the heatmap with customized font size\n",
    "plt.figure(figsize=(10, 8))\n",
    "sns.heatmap(conf_matrix_percent, annot=True, fmt=\".2f\", cmap=\"Blues\", xticklabels=unique_labels, yticklabels=unique_labels,\n",
    "            annot_kws={\"fontsize\":15})  # Adjust the font size here\n",
    "plt.xlabel('Predicted Labels')\n",
    "plt.ylabel('True Labels')\n",
    "plt.title('Confusion Matrix for EWT_dev with BERT')\n",
    "plt.show()\n"
   ]
  }
 ],
 "metadata": {
  "kernelspec": {
   "display_name": "Python 3",
   "language": "python",
   "name": "python3"
  },
  "language_info": {
   "codemirror_mode": {
    "name": "ipython",
    "version": 3
   },
   "file_extension": ".py",
   "mimetype": "text/x-python",
   "name": "python",
   "nbconvert_exporter": "python",
   "pygments_lexer": "ipython3",
   "version": "3.11.4"
  }
 },
 "nbformat": 4,
 "nbformat_minor": 2
}
