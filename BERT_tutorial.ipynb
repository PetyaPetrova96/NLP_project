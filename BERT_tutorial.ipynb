{
 "cells": [
  {
   "cell_type": "markdown",
   "metadata": {},
   "source": [
    "Hugging Face"
   ]
  },
  {
   "cell_type": "code",
   "execution_count": 1,
   "metadata": {},
   "outputs": [],
   "source": [
    "label_list = ['O', 'B-LOC', 'I-LOC', 'B-PER', 'B-ORG', 'I-ORG', 'I-PER']"
   ]
  },
  {
   "cell_type": "code",
   "execution_count": null,
   "metadata": {},
   "outputs": [],
   "source": []
  },
  {
   "cell_type": "code",
   "execution_count": 2,
   "metadata": {},
   "outputs": [],
   "source": [
    "label2id = {\n",
    "    'O': 0,\n",
    "    'B-LOC': 1,\n",
    "    'I-LOC': 2,\n",
    "    'B-PER': 3,\n",
    "    'B-ORG': 4,\n",
    "    'I-ORG': 5,\n",
    "    'I-PER': 6\n",
    "}\n",
    "\n",
    "id2label = {\n",
    "    0: 'O',\n",
    "    1: 'B-LOC',\n",
    "    2: 'I-LOC',\n",
    "    3: 'B-PER',\n",
    "    4: 'B-ORG',\n",
    "    5: 'I-ORG',\n",
    "    6: 'I-PER'\n",
    "    }"
   ]
  },
  {
   "cell_type": "code",
   "execution_count": 3,
   "metadata": {},
   "outputs": [],
   "source": [
    "#label_to_index['O']"
   ]
  },
  {
   "cell_type": "code",
   "execution_count": 4,
   "metadata": {},
   "outputs": [],
   "source": [
    "# Open the data and create dictionaries for each sentence \n",
    "#  \n",
    "def parse_iob2_content(content):\n",
    "    data = []\n",
    "    sentence_id = None\n",
    "    sen_id = 0\n",
    "    for line in content.split('\\n'):\n",
    "        line = line.strip()\n",
    "        if line.startswith('# sent_id ='):\n",
    "            temp_dic = {}\n",
    "            #sentence_id = line.split('=')[1].strip()\n",
    "            sentence_id = sen_id\n",
    "            sen_id+= 1\n",
    "            temp_dic['id'] = sentence_id\n",
    "            temp_dic['tokens'] = []\n",
    "            temp_dic['ner_tags'] = []\n",
    "        elif line and not line.startswith('#'):\n",
    "            parts = line.split('\\t')\n",
    "            temp_dic['tokens'].append(parts[1])\n",
    "            temp_dic['ner_tags'].append(label2id[parts[2]])\n",
    "        elif not line:\n",
    "            data.append(temp_dic)\n",
    "    return data\n",
    "\n",
    "# Parse training data\n",
    "with open('en_ewt-ud-train.iob2', 'r', encoding='utf-8') as file:\n",
    "    content_train = file.read()\n",
    "\n",
    "\n",
    "\n",
    "# Parse development data\n",
    "with open('en_ewt-ud-dev.iob2', 'r', encoding='utf-8') as file:\n",
    "    content_dev = file.read()\n",
    "\n",
    "# Parse test data\n",
    "#with open('en_ewt-ud-test-masked.iob2', 'r', encoding='utf-8') as file:\n",
    " #   content_test = file.read()\n",
    "\n",
    "train_data = parse_iob2_content(content_train)\n",
    "dev_data = parse_iob2_content(content_dev)\n",
    "#test_data = parse_iob2_content(content_test)\n"
   ]
  },
  {
   "cell_type": "code",
   "execution_count": 5,
   "metadata": {},
   "outputs": [],
   "source": [
    "#dev_data"
   ]
  },
  {
   "cell_type": "code",
   "execution_count": 6,
   "metadata": {},
   "outputs": [
    {
     "name": "stderr",
     "output_type": "stream",
     "text": [
      "c:\\Users\\45911\\AppData\\Local\\Programs\\Python\\Python311\\Lib\\site-packages\\tqdm\\auto.py:21: TqdmWarning: IProgress not found. Please update jupyter and ipywidgets. See https://ipywidgets.readthedocs.io/en/stable/user_install.html\n",
      "  from .autonotebook import tqdm as notebook_tqdm\n",
      "c:\\Users\\45911\\AppData\\Local\\Programs\\Python\\Python311\\Lib\\site-packages\\huggingface_hub\\file_download.py:148: UserWarning: `huggingface_hub` cache-system uses symlinks by default to efficiently store duplicated files but your machine does not support them in C:\\Users\\45911\\.cache\\huggingface\\hub\\models--distilbert--distilbert-base-cased. Caching files will still work but in a degraded version that might require more space on your disk. This warning can be disabled by setting the `HF_HUB_DISABLE_SYMLINKS_WARNING` environment variable. For more details, see https://huggingface.co/docs/huggingface_hub/how-to-cache#limitations.\n",
      "To support symlinks on Windows, you either need to activate Developer Mode or to run Python as an administrator. In order to see activate developer mode, see this article: https://docs.microsoft.com/en-us/windows/apps/get-started/enable-your-device-for-development\n",
      "  warnings.warn(message)\n"
     ]
    }
   ],
   "source": [
    "from transformers import AutoTokenizer\n",
    "\n",
    "tokenizer = AutoTokenizer.from_pretrained(\"distilbert/distilbert-base-cased\")"
   ]
  },
  {
   "cell_type": "code",
   "execution_count": 7,
   "metadata": {},
   "outputs": [],
   "source": [
    "#tokenizer = AutoTokenizer.from_pretrained(\"distilbert/distilbert-base-cased\")"
   ]
  },
  {
   "cell_type": "code",
   "execution_count": 8,
   "metadata": {},
   "outputs": [
    {
     "data": {
      "text/plain": [
       "['[CLS]',\n",
       " 'Where',\n",
       " 'in',\n",
       " 'the',\n",
       " 'world',\n",
       " 'is',\n",
       " 'I',\n",
       " '##gua',\n",
       " '##zu',\n",
       " '?',\n",
       " '[SEP]']"
      ]
     },
     "execution_count": 8,
     "metadata": {},
     "output_type": "execute_result"
    }
   ],
   "source": [
    "example = train_data[0]\n",
    "tokenized_input = tokenizer(example[\"tokens\"], is_split_into_words=True)\n",
    "tokens = tokenizer.convert_ids_to_tokens(tokenized_input[\"input_ids\"])\n",
    "tokens"
   ]
  },
  {
   "cell_type": "code",
   "execution_count": 9,
   "metadata": {},
   "outputs": [
    {
     "data": {
      "text/plain": [
       "'def tokenize_and_align_labels(examples):\\n    tokenized_inputs = tokenizer(examples[\"tokens\"], truncation=True, is_split_into_words=True)\\n\\n    labels = []\\n    for i, label in enumerate(examples[f\"ner_tags\"]):\\n        word_ids = tokenized_inputs.word_ids(batch_index=i)  # Map tokens to their respective word.\\n        #print(\\'Hi\\')\\n        #print(word_ids, \"Hi\")\\n        #print(label)\\n        previous_word_idx = None\\n        label_ids = []\\n        for word_idx in word_ids:  # Set the special tokens to -100.\\n            if word_idx is None:\\n                label_ids.append(-100)\\n            elif word_idx != previous_word_idx:  # Only label the first token of a given word.\\n                #print(label[word_idx])\\n                label_ids.append(label[word_idx])\\n            else:\\n                label_ids.append(-100)\\n            previous_word_idx = word_idx\\n        labels.append(label_ids)\\n\\n    tokenized_inputs[\"labels\"] = labels\\n    return tokenized_inputs'"
      ]
     },
     "execution_count": 9,
     "metadata": {},
     "output_type": "execute_result"
    }
   ],
   "source": [
    "'''def tokenize_and_align_labels(examples):\n",
    "    tokenized_inputs = tokenizer(examples[\"tokens\"], truncation=True, is_split_into_words=True)\n",
    "\n",
    "    labels = []\n",
    "    for i, label in enumerate(examples[f\"ner_tags\"]):\n",
    "        word_ids = tokenized_inputs.word_ids(batch_index=i)  # Map tokens to their respective word.\n",
    "        #print('Hi')\n",
    "        #print(word_ids, \"Hi\")\n",
    "        #print(label)\n",
    "        previous_word_idx = None\n",
    "        label_ids = []\n",
    "        for word_idx in word_ids:  # Set the special tokens to -100.\n",
    "            if word_idx is None:\n",
    "                label_ids.append(-100)\n",
    "            elif word_idx != previous_word_idx:  # Only label the first token of a given word.\n",
    "                #print(label[word_idx])\n",
    "                label_ids.append(label[word_idx])\n",
    "            else:\n",
    "                label_ids.append(-100)\n",
    "            previous_word_idx = word_idx\n",
    "        labels.append(label_ids)\n",
    "\n",
    "    tokenized_inputs[\"labels\"] = labels\n",
    "    return tokenized_inputs'''"
   ]
  },
  {
   "cell_type": "code",
   "execution_count": 10,
   "metadata": {},
   "outputs": [],
   "source": [
    "#train_data[:2]"
   ]
  },
  {
   "cell_type": "code",
   "execution_count": 11,
   "metadata": {},
   "outputs": [],
   "source": [
    "#example = train_data[0]\n",
    "\n",
    "def tokenize_and_align_labels(example):\n",
    "    tokenized_inputs = tokenizer(example[\"tokens\"], truncation=True, is_split_into_words=True)\n",
    "    #print(tokenized_inputs)\n",
    "    #print(example['ner_tags'])\n",
    "    #labels_ = []\n",
    "    for i, label in enumerate(example[f\"ner_tags\"]):\n",
    "        #print(i, label)\n",
    "        word_ids = tokenized_inputs.word_ids()  # Map tokens to their respective word.\n",
    "        #print(word_ids)\n",
    "        #print('Hi')\n",
    "        #print(word_ids, \"Hi\")\n",
    "        #print(label)\n",
    "        previous_word_idx = None\n",
    "        label_ids = []\n",
    "        for word_idx in word_ids:  # Set the special tokens to -100.\n",
    "            if word_idx is None:\n",
    "                label_ids.append(-100)\n",
    "                #print(label_ids)\n",
    "            elif word_idx != previous_word_idx:  # Only label the first token of a given word.\n",
    "                #print(label[word_idx])\n",
    "                #print(label)\n",
    "                #print(example[f\"ner_tags\"][word_idx])\n",
    "                label_ids.append(example[\"ner_tags\"][word_idx])\n",
    "                #label_ids.append(label[word_idx])\n",
    "                #label_ids.append(label)\n",
    "            else:\n",
    "                label_ids.append(-100)\n",
    "            previous_word_idx = word_idx\n",
    "        #labels_.append(label_ids)\n",
    "        #print(labels_)\n",
    "\n",
    "    tokenized_inputs[\"labels\"] = label_ids #labels_\n",
    "    #print('Hi')\n",
    "    return tokenized_inputs"
   ]
  },
  {
   "cell_type": "code",
   "execution_count": 12,
   "metadata": {},
   "outputs": [
    {
     "name": "stderr",
     "output_type": "stream",
     "text": [
      "Asking to truncate to max_length but no maximum length is provided and the model has no predefined maximum length. Default to no truncation.\n"
     ]
    }
   ],
   "source": [
    "tokeized_train = []\n",
    "for i in train_data:\n",
    "    t = tokenize_and_align_labels(i)\n",
    "    tokeized_train.append(t)\n",
    "\n",
    "#print(tokeized_train)\n",
    "#tokenized_inputs"
   ]
  },
  {
   "cell_type": "code",
   "execution_count": 13,
   "metadata": {},
   "outputs": [],
   "source": [
    "tokeized_dev = []\n",
    "for i in dev_data:\n",
    "    t = tokenize_and_align_labels(i)\n",
    "    tokeized_dev.append(t)"
   ]
  },
  {
   "cell_type": "code",
   "execution_count": 14,
   "metadata": {},
   "outputs": [
    {
     "data": {
      "text/plain": [
       "[{'input_ids': [101, 2777, 1107, 1103, 1362, 1110, 146, 13855, 10337, 136, 102], 'attention_mask': [1, 1, 1, 1, 1, 1, 1, 1, 1, 1, 1], 'labels': [-100, 0, 0, 0, 0, 0, 1, -100, -100, 0, -100]},\n",
       " {'input_ids': [101, 146, 13855, 10337, 6230, 102], 'attention_mask': [1, 1, 1, 1, 1, 1], 'labels': [-100, 1, -100, -100, 2, -100]},\n",
       " {'input_ids': [101, 15268, 1193, 1737, 1106, 1129, 1141, 1104, 1103, 1211, 14449, 16962, 1116, 1107, 1103, 1362, 117, 1103, 146, 13855, 10337, 6230, 1113, 1103, 3070, 1104, 4904, 1105, 3524, 117, 1132, 170, 4664, 1538, 1267, 8322, 1107, 1103, 1298, 119, 102], 'attention_mask': [1, 1, 1, 1, 1, 1, 1, 1, 1, 1, 1, 1, 1, 1, 1, 1, 1, 1, 1, 1, 1, 1, 1, 1, 1, 1, 1, 1, 1, 1, 1, 1, 1, 1, 1, 1, 1, 1, 1, 1, 1], 'labels': [-100, 0, -100, 0, 0, 0, 0, 0, 0, 0, 0, 0, -100, 0, 0, 0, 0, 0, 1, -100, -100, 2, 0, 0, 0, 0, 1, 0, 1, 0, 0, 0, 0, 0, 0, 0, 0, 0, 0, 0, -100]},\n",
       " {'input_ids': [101, 1109, 2642, 1104, 1103, 4887, 1110, 1227, 6889, 1112, 786, 144, 1813, 24581, 1161, 9352, 12120, 6639, 2858, 787, 113, 1109, 8201, 787, 188, 157, 8167, 20534, 114, 117, 1187, 1103, 3321, 3884, 1104, 1447, 10130, 170, 4836, 12791, 1104, 13477, 1154, 1103, 1586, 119, 102], 'attention_mask': [1, 1, 1, 1, 1, 1, 1, 1, 1, 1, 1, 1, 1, 1, 1, 1, 1, 1, 1, 1, 1, 1, 1, 1, 1, 1, 1, 1, 1, 1, 1, 1, 1, 1, 1, 1, 1, 1, 1, 1, 1, 1, 1, 1, 1, 1, 1], 'labels': [-100, 0, 0, 0, 0, 0, 0, 0, 0, 0, 0, 0, -100, -100, -100, 0, 0, -100, -100, 0, 0, 0, 0, 0, -100, 0, -100, -100, 0, 0, 0, 0, 0, 0, 0, 0, 0, 0, 0, 0, 0, 0, 0, 0, 0, 0, -100]},\n",
       " {'input_ids': [101, 1556, 1103, 3336, 188, 8265, 3381, 1205, 1113, 1103, 13477, 117, 3780, 170, 21489, 1107, 1103, 24387, 10328, 117, 1142, 1110, 1103, 3264, 1282, 1106, 1243, 1115, 12557, 146, 13855, 10337, 6230, 10110, 119, 102], 'attention_mask': [1, 1, 1, 1, 1, 1, 1, 1, 1, 1, 1, 1, 1, 1, 1, 1, 1, 1, 1, 1, 1, 1, 1, 1, 1, 1, 1, 1, 1, 1, 1, 1, 1, 1, 1, 1], 'labels': [-100, 0, 0, 0, 0, -100, -100, 0, 0, 0, 0, 0, 0, 0, 0, 0, 0, 0, -100, 0, 0, 0, 0, 0, 0, 0, 0, 0, 0, 1, -100, -100, 2, 0, 0, -100]},\n",
       " {'input_ids': [101, 1438, 117, 3277, 1199, 1104, 1240, 6981, 1111, 1103, 1832, 1104, 1103, 4887, 117, 1112, 1107, 1703, 1175, 1132, 1213, 14162, 11019, 26996, 4704, 1115, 2819, 1149, 1166, 2212, 123, 1829, 1104, 1103, 146, 13855, 10337, 1595, 119, 102], 'attention_mask': [1, 1, 1, 1, 1, 1, 1, 1, 1, 1, 1, 1, 1, 1, 1, 1, 1, 1, 1, 1, 1, 1, 1, 1, 1, 1, 1, 1, 1, 1, 1, 1, 1, 1, 1, 1, 1, 1, 1, 1], 'labels': [-100, 0, 0, 0, 0, 0, 0, 0, 0, 0, 0, 0, 0, 0, 0, 0, 0, 0, 0, 0, 0, 0, 0, -100, -100, 0, 0, 0, 0, 0, 0, 0, 0, 0, 1, -100, -100, 2, 0, -100]},\n",
       " {'input_ids': [101, 1109, 146, 13855, 10337, 6230, 1132, 3253, 7385, 1105, 117, 7449, 1113, 1240, 1159, 9118, 1105, 4788, 117, 1128, 1169, 1243, 1106, 1103, 1298, 1118, 1719, 3592, 1137, 4261, 119, 102], 'attention_mask': [1, 1, 1, 1, 1, 1, 1, 1, 1, 1, 1, 1, 1, 1, 1, 1, 1, 1, 1, 1, 1, 1, 1, 1, 1, 1, 1, 1, 1, 1, 1, 1], 'labels': [-100, 0, 1, -100, -100, 2, 0, 0, 0, 0, 0, 0, 0, 0, 0, 0, 0, 0, 0, 0, 0, 0, 0, 0, 0, 0, 0, 0, 0, 0, 0, -100]},\n",
       " {'input_ids': [101, 1109, 6830, 4281, 1106, 1103, 1751, 1132, 5304, 146, 13855, 10337, 1107, 4904, 117, 1164, 1367, 1829, 1121, 1103, 4887, 117, 1105, 143, 17395, 1202, 146, 13855, 28201, 1358, 1107, 3524, 117, 1134, 1110, 7808, 1601, 119, 102], 'attention_mask': [1, 1, 1, 1, 1, 1, 1, 1, 1, 1, 1, 1, 1, 1, 1, 1, 1, 1, 1, 1, 1, 1, 1, 1, 1, 1, 1, 1, 1, 1, 1, 1, 1, 1, 1, 1, 1, 1, 1], 'labels': [-100, 0, 0, 0, 0, 0, 0, 0, 1, 2, -100, -100, 0, 1, 0, 0, 0, 0, 0, 0, 0, 0, 0, 1, -100, 2, 2, -100, -100, -100, 0, 1, 0, 0, 0, 0, 0, 0, -100]},\n",
       " {'input_ids': [101, 2695, 4281, 1138, 15797, 1115, 1132, 1462, 4857, 1121, 1103, 2610, 3038, 1216, 1112, 17784, 1186, 8764, 117, 5470, 1260, 11502, 1105, 8883, 8837, 119, 102], 'attention_mask': [1, 1, 1, 1, 1, 1, 1, 1, 1, 1, 1, 1, 1, 1, 1, 1, 1, 1, 1, 1, 1, 1, 1, 1, 1, 1, 1], 'labels': [-100, 0, 0, 0, 0, 0, 0, 0, 0, 0, 0, 0, 0, 0, 0, 1, -100, 2, 0, 1, 2, 2, 0, 1, 2, 0, -100]},\n",
       " {'input_ids': [101, 1109, 3592, 1110, 5544, 1103, 17780, 5146, 117, 1105, 9169, 1146, 1121, 8883, 8837, 1103, 3868, 1110, 170, 1554, 1406, 2005, 117, 1780, 1103, 8049, 1132, 1304, 6062, 1114, 25274, 1231, 1665, 13260, 3474, 119, 102], 'attention_mask': [1, 1, 1, 1, 1, 1, 1, 1, 1, 1, 1, 1, 1, 1, 1, 1, 1, 1, 1, 1, 1, 1, 1, 1, 1, 1, 1, 1, 1, 1, 1, 1, 1, 1, 1, 1, 1], 'labels': [-100, 0, 0, 0, 0, 0, 0, 0, 0, 0, 0, 0, 0, 1, 2, 0, 0, 0, 0, 0, 0, 0, 0, 0, 0, 0, 0, 0, 0, 0, 0, 0, -100, -100, 0, 0, -100]}]"
      ]
     },
     "execution_count": 14,
     "metadata": {},
     "output_type": "execute_result"
    }
   ],
   "source": [
    "tokeized_train[:10]"
   ]
  },
  {
   "cell_type": "code",
   "execution_count": 15,
   "metadata": {},
   "outputs": [
    {
     "name": "stdout",
     "output_type": "stream",
     "text": [
      "WARNING:tensorflow:From c:\\Users\\45911\\AppData\\Local\\Programs\\Python\\Python311\\Lib\\site-packages\\keras\\src\\losses.py:2976: The name tf.losses.sparse_softmax_cross_entropy is deprecated. Please use tf.compat.v1.losses.sparse_softmax_cross_entropy instead.\n",
      "\n"
     ]
    }
   ],
   "source": [
    "from transformers import DataCollatorForTokenClassification\n",
    "\n",
    "data_collator = DataCollatorForTokenClassification(tokenizer=tokenizer)"
   ]
  },
  {
   "cell_type": "code",
   "execution_count": 16,
   "metadata": {},
   "outputs": [
    {
     "name": "stderr",
     "output_type": "stream",
     "text": [
      "Downloading builder script: 100%|██████████| 6.34k/6.34k [00:00<?, ?B/s]\n"
     ]
    }
   ],
   "source": [
    "import evaluate\n",
    "\n",
    "seqeval = evaluate.load(\"seqeval\")"
   ]
  },
  {
   "cell_type": "code",
   "execution_count": 17,
   "metadata": {},
   "outputs": [],
   "source": [
    "#pip install transformers datasets evaluate seqeval"
   ]
  },
  {
   "cell_type": "code",
   "execution_count": 18,
   "metadata": {},
   "outputs": [],
   "source": [
    "#from datasets import load_dataset"
   ]
  },
  {
   "cell_type": "code",
   "execution_count": 19,
   "metadata": {},
   "outputs": [],
   "source": [
    "import numpy as np\n",
    "\n",
    "labels = [label_list[i] for i in example[f\"ner_tags\"]]\n",
    "\n",
    "\n",
    "def compute_metrics(p):\n",
    "    predictions, labels = p\n",
    "    predictions = np.argmax(predictions, axis=2)\n",
    "\n",
    "    true_predictions = [\n",
    "        [label_list[p] for (p, l) in zip(prediction, label) if l != -100]\n",
    "        for prediction, label in zip(predictions, labels)\n",
    "    ]\n",
    "    true_labels = [\n",
    "        [label_list[l] for (p, l) in zip(prediction, label) if l != -100]\n",
    "        for prediction, label in zip(predictions, labels)\n",
    "    ]\n",
    "\n",
    "    results = seqeval.compute(predictions=true_predictions, references=true_labels)\n",
    "    return {\n",
    "        \"precision\": results[\"overall_precision\"],\n",
    "        \"recall\": results[\"overall_recall\"],\n",
    "        \"f1\": results[\"overall_f1\"],\n",
    "        \"accuracy\": results[\"overall_accuracy\"],\n",
    "    }"
   ]
  },
  {
   "cell_type": "code",
   "execution_count": 20,
   "metadata": {},
   "outputs": [
    {
     "name": "stderr",
     "output_type": "stream",
     "text": [
      "Some weights of DistilBertForTokenClassification were not initialized from the model checkpoint at distilbert/distilbert-base-cased and are newly initialized: ['classifier.bias', 'classifier.weight']\n",
      "You should probably TRAIN this model on a down-stream task to be able to use it for predictions and inference.\n"
     ]
    }
   ],
   "source": [
    "from transformers import AutoModelForTokenClassification, TrainingArguments, Trainer\n",
    "\n",
    "model = AutoModelForTokenClassification.from_pretrained(\n",
    "    \"distilbert/distilbert-base-cased\", num_labels=7, id2label=id2label, label2id=label2id\n",
    ")"
   ]
  },
  {
   "cell_type": "code",
   "execution_count": 21,
   "metadata": {},
   "outputs": [],
   "source": [
    "import os\n",
    "\n",
    "os.environ[\"WANDB_DISABLED\"] = \"true\""
   ]
  },
  {
   "cell_type": "code",
   "execution_count": 22,
   "metadata": {},
   "outputs": [
    {
     "name": "stderr",
     "output_type": "stream",
     "text": [
      "Using the `WANDB_DISABLED` environment variable is deprecated and will be removed in v5. Use the --report_to flag to control the integrations used for logging result (for instance --report_to none).\n",
      "c:\\Users\\45911\\AppData\\Local\\Programs\\Python\\Python311\\Lib\\site-packages\\accelerate\\accelerator.py:436: FutureWarning: Passing the following arguments to `Accelerator` is deprecated and will be removed in version 1.0 of Accelerate: dict_keys(['dispatch_batches', 'split_batches', 'even_batches', 'use_seedable_sampler']). Please pass an `accelerate.DataLoaderConfiguration` instead: \n",
      "dataloader_config = DataLoaderConfiguration(dispatch_batches=None, split_batches=False, even_batches=True, use_seedable_sampler=True)\n",
      "  warnings.warn(\n",
      " 32%|███▏      | 500/1568 [09:43<25:53,  1.45s/it]"
     ]
    },
    {
     "name": "stdout",
     "output_type": "stream",
     "text": [
      "{'loss': 0.1102, 'grad_norm': 3.1170318126678467, 'learning_rate': 1.3622448979591838e-05, 'epoch': 0.64}\n"
     ]
    },
    {
     "name": "stderr",
     "output_type": "stream",
     "text": [
      "                                                  \n",
      " 50%|█████     | 784/1568 [16:14<17:14,  1.32s/it]"
     ]
    },
    {
     "name": "stdout",
     "output_type": "stream",
     "text": [
      "{'eval_loss': 0.06190086901187897, 'eval_precision': 0.7592190889370932, 'eval_recall': 0.7246376811594203, 'eval_f1': 0.7415254237288136, 'eval_accuracy': 0.9792643203304997, 'eval_runtime': 35.4966, 'eval_samples_per_second': 56.4, 'eval_steps_per_second': 3.55, 'epoch': 1.0}\n"
     ]
    },
    {
     "name": "stderr",
     "output_type": "stream",
     "text": [
      " 64%|██████▍   | 1000/1568 [20:34<12:33,  1.33s/it] "
     ]
    },
    {
     "name": "stdout",
     "output_type": "stream",
     "text": [
      "{'loss': 0.0388, 'grad_norm': 0.8976907134056091, 'learning_rate': 7.244897959183675e-06, 'epoch': 1.28}\n"
     ]
    },
    {
     "name": "stderr",
     "output_type": "stream",
     "text": [
      " 96%|█████████▌| 1500/1568 [30:42<01:20,  1.18s/it]"
     ]
    },
    {
     "name": "stdout",
     "output_type": "stream",
     "text": [
      "{'loss': 0.0272, 'grad_norm': 0.24718882143497467, 'learning_rate': 8.673469387755103e-07, 'epoch': 1.91}\n"
     ]
    },
    {
     "name": "stderr",
     "output_type": "stream",
     "text": [
      "                                                   \n",
      "100%|██████████| 1568/1568 [32:44<00:00,  1.16s/it]"
     ]
    },
    {
     "name": "stdout",
     "output_type": "stream",
     "text": [
      "{'eval_loss': 0.059212829917669296, 'eval_precision': 0.7514792899408284, 'eval_recall': 0.7888198757763976, 'eval_f1': 0.7696969696969698, 'eval_accuracy': 0.982124414078017, 'eval_runtime': 35.9906, 'eval_samples_per_second': 55.626, 'eval_steps_per_second': 3.501, 'epoch': 2.0}\n"
     ]
    },
    {
     "name": "stderr",
     "output_type": "stream",
     "text": [
      "100%|██████████| 1568/1568 [32:45<00:00,  1.25s/it]"
     ]
    },
    {
     "name": "stdout",
     "output_type": "stream",
     "text": [
      "{'train_runtime': 1965.662, 'train_samples_per_second': 12.763, 'train_steps_per_second': 0.798, 'train_loss': 0.05743994046838916, 'epoch': 2.0}\n"
     ]
    },
    {
     "name": "stderr",
     "output_type": "stream",
     "text": [
      "\n"
     ]
    }
   ],
   "source": [
    "training_args = TrainingArguments(\n",
    "    output_dir=\"our_awesome_BERT_model\",\n",
    "    learning_rate=2e-5,\n",
    "    per_device_train_batch_size=16,\n",
    "    per_device_eval_batch_size=16,\n",
    "    num_train_epochs=2,\n",
    "    weight_decay=0.01,\n",
    "    evaluation_strategy=\"epoch\",\n",
    "    save_strategy=\"epoch\",\n",
    "    load_best_model_at_end=True,\n",
    "    #push_to_hub=True,\n",
    ")\n",
    "\n",
    "trainer = Trainer(\n",
    "    model=model,\n",
    "    args=training_args,\n",
    "    train_dataset=tokeized_train,\n",
    "    eval_dataset=tokeized_dev,\n",
    "    tokenizer=tokenizer,\n",
    "    data_collator=data_collator,\n",
    "    compute_metrics=compute_metrics,\n",
    ")\n",
    "\n",
    "model_output = trainer.train()"
   ]
  },
  {
   "cell_type": "code",
   "execution_count": 26,
   "metadata": {},
   "outputs": [
    {
     "data": {
      "text/plain": [
       "TrainOutput(global_step=1568, training_loss=0.05743994046838916, metrics={'train_runtime': 1965.662, 'train_samples_per_second': 12.763, 'train_steps_per_second': 0.798, 'train_loss': 0.05743994046838916, 'epoch': 2.0})"
      ]
     },
     "execution_count": 26,
     "metadata": {},
     "output_type": "execute_result"
    }
   ],
   "source": [
    "model_output"
   ]
  },
  {
   "cell_type": "code",
   "execution_count": 24,
   "metadata": {},
   "outputs": [],
   "source": [
    "text = \"The Golden State Warriors are an American professional basketball team based in San Francisco.\""
   ]
  },
  {
   "cell_type": "code",
   "execution_count": 28,
   "metadata": {},
   "outputs": [
    {
     "name": "stderr",
     "output_type": "stream",
     "text": [
      "Asking to truncate to max_length but no maximum length is provided and the model has no predefined maximum length. Default to no truncation.\n"
     ]
    },
    {
     "data": {
      "text/plain": [
       "[{'entity': 'B-LOC',\n",
       "  'score': 0.6748028,\n",
       "  'index': 2,\n",
       "  'word': 'Golden',\n",
       "  'start': 4,\n",
       "  'end': 10},\n",
       " {'entity': 'I-LOC',\n",
       "  'score': 0.74808216,\n",
       "  'index': 3,\n",
       "  'word': 'State',\n",
       "  'start': 11,\n",
       "  'end': 16},\n",
       " {'entity': 'I-ORG',\n",
       "  'score': 0.6625485,\n",
       "  'index': 4,\n",
       "  'word': 'Warriors',\n",
       "  'start': 17,\n",
       "  'end': 25},\n",
       " {'entity': 'B-LOC',\n",
       "  'score': 0.97268164,\n",
       "  'index': 13,\n",
       "  'word': 'San',\n",
       "  'start': 80,\n",
       "  'end': 83},\n",
       " {'entity': 'I-LOC',\n",
       "  'score': 0.9903384,\n",
       "  'index': 14,\n",
       "  'word': 'Francisco',\n",
       "  'start': 84,\n",
       "  'end': 93}]"
      ]
     },
     "execution_count": 28,
     "metadata": {},
     "output_type": "execute_result"
    }
   ],
   "source": [
    "from transformers import pipeline\n",
    "\n",
    "classifier = pipeline(\"ner\", model=\"our_awesome_BERT_model/checkpoint-784/\")\n",
    "classifier(text)"
   ]
  },
  {
   "cell_type": "code",
   "execution_count": null,
   "metadata": {},
   "outputs": [],
   "source": []
  }
 ],
 "metadata": {
  "kernelspec": {
   "display_name": "Python 3",
   "language": "python",
   "name": "python3"
  },
  "language_info": {
   "codemirror_mode": {
    "name": "ipython",
    "version": 3
   },
   "file_extension": ".py",
   "mimetype": "text/x-python",
   "name": "python",
   "nbconvert_exporter": "python",
   "pygments_lexer": "ipython3",
   "version": "3.11.4"
  }
 },
 "nbformat": 4,
 "nbformat_minor": 2
}
